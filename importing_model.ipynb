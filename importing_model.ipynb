{
 "cells": [
  {
   "cell_type": "code",
   "execution_count": 14,
   "id": "6fcef903",
   "metadata": {},
   "outputs": [],
   "source": [
    "import cv2\n",
    "import tensorflow as tf\n",
    "import numpy as np\n",
    "import matplotlib.pyplot as plt\n",
    "\n",
    "\n",
    "from tensorflow.keras.models import load_model\n",
    "model=load_model('digit_recognition.h5')"
   ]
  },
  {
   "cell_type": "code",
   "execution_count": 17,
   "id": "334cd8eb",
   "metadata": {},
   "outputs": [
    {
     "name": "stdout",
     "output_type": "stream",
     "text": [
      "4\n",
      "0.6394109\n",
      "Not very certain!\n"
     ]
    },
    {
     "data": {
      "text/plain": [
       "<matplotlib.image.AxesImage at 0x1f4d6980310>"
      ]
     },
     "execution_count": 17,
     "metadata": {},
     "output_type": "execute_result"
    },
    {
     "data": {
      "image/png": "[encoded data removed]",
      "text/plain": [
       "<Figure size 432x288 with 1 Axes>"
      ]
     },
     "metadata": {
      "needs_background": "light"
     },
     "output_type": "display_data"
    }
   ],
   "source": [
    "img=cv2.imread('test_img.png')\n",
    "gray=cv2.cvtColor(img,cv2.COLOR_BGR2GRAY)\n",
    "ret, gray = cv2.threshold(gray, 50, 255, cv2.THRESH_BINARY_INV)\n",
    "resized=cv2.resize(gray,(28,28),interpolation=cv2.INTER_AREA)\n",
    "newimg=tf.keras.utils.normalize(resized,axis=1)\n",
    "\n",
    "newimg=np.array(newimg).reshape(-1,28,28,1)\n",
    "predictionn=model.predict(newimg)\n",
    "ans=np.argmax(predictionn)\n",
    "print(ans)\n",
    "print(predictionn[0][ans])\n",
    "if(predictionn[0][ans]<0.5):\n",
    "    print(\"Cannot recognize\")\n",
    "elif(predictionn[0][ans]<0.9):\n",
    "    print(\"Not very certain!\")\n",
    "else:\n",
    "    print(\"Confident!!\")\n",
    "plt.imshow(newimg[0])"
   ]
  },
  {
   "cell_type": "code",
   "execution_count": null,
   "id": "bbc537a6",
   "metadata": {},
   "outputs": [],
   "source": []
  }
 ],
 "metadata": {
  "kernelspec": {
   "display_name": "Python 3",
   "language": "python",
   "name": "python3"
  },
  "language_info": {
   "codemirror_mode": {
    "name": "ipython",
    "version": 3
   },
   "file_extension": ".py",
   "mimetype": "text/x-python",
   "name": "python",
   "nbconvert_exporter": "python",
   "pygments_lexer": "ipython3",
   "version": "3.8.8"
  }
 },
 "nbformat": 4,
 "nbformat_minor": 5
}
